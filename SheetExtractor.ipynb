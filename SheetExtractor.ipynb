{
 "cells": [
  {
   "cell_type": "code",
   "execution_count": 28,
   "id": "a60bb05a-1175-4b8c-ac33-7c35ec199c95",
   "metadata": {},
   "outputs": [
    {
     "name": "stdout",
     "output_type": "stream",
     "text": [
      "Requirement already satisfied: xlwings in /Users/rudiks/opt/anaconda3/lib/python3.7/site-packages (0.23.0)\n",
      "Collecting xlwings\n",
      "  Downloading xlwings-0.24.9.tar.gz (789 kB)\n",
      "\u001b[K     |████████████████████████████████| 789 kB 700 kB/s eta 0:00:01\n",
      "\u001b[?25hRequirement already satisfied: psutil>=2.0.0 in /Users/rudiks/opt/anaconda3/lib/python3.7/site-packages (from xlwings) (5.8.0)\n",
      "Requirement already satisfied: appscript>=1.0.1 in /Users/rudiks/opt/anaconda3/lib/python3.7/site-packages (from xlwings) (1.1.2)\n",
      "Building wheels for collected packages: xlwings\n",
      "  Building wheel for xlwings (setup.py) ... \u001b[?25ldone\n",
      "\u001b[?25h  Created wheel for xlwings: filename=xlwings-0.24.9-py3-none-any.whl size=466534 sha256=3d863457e385c8d9a47ca472d6cb805dd0a601eee9d9190de343fbb596b6888e\n",
      "  Stored in directory: /Users/rudiks/Library/Caches/pip/wheels/dd/2a/09/8d79027269cf361841971c6d933d2a2a77b70cf812972db81b\n",
      "Successfully built xlwings\n",
      "Installing collected packages: xlwings\n",
      "  Attempting uninstall: xlwings\n",
      "    Found existing installation: xlwings 0.23.0\n",
      "    Uninstalling xlwings-0.23.0:\n",
      "      Successfully uninstalled xlwings-0.23.0\n",
      "Successfully installed xlwings-0.24.9\n"
     ]
    }
   ],
   "source": [
    "!pip install xlwings --upgrade"
   ]
  },
  {
   "cell_type": "code",
   "execution_count": 16,
   "id": "e596cb51-8576-4cec-97da-e63e1a103ee4",
   "metadata": {},
   "outputs": [],
   "source": [
    "import glob# Standard Python Module\n",
    "import xlwings as xw  # pip install xlwings\n",
    "\n",
    "path = \"/Users/rudiks/Library/Containers/com.microsoft.Excel/Data/PNC/DATOS PNC por seccion  copy/17/*.xls\"\n",
    "\n",
    "for excel_file in glob.glob(path):\n",
    "    excel_app = xw.App(visible=True)\n",
    "    wb = excel_app.books.open(excel_file)\n",
    "    for sheet in wb.sheets:\n",
    "        wb_new = xw.Book()\n",
    "        sheet.copy(after=wb_new.sheets[0])\n",
    "        wb_new.sheets[0].delete()\n",
    "        output_name = f'/{excel_file}_{sheet.name}.xls'\n",
    "        output_path = output_name\n",
    "        wb_new.save(output_path)\n",
    "        wb_new.close()\n",
    "    excel_app.quit()"
   ]
  },
  {
   "cell_type": "code",
   "execution_count": null,
   "id": "2c27c33b-83c4-456a-bf17-74ab8db1835f",
   "metadata": {},
   "outputs": [],
   "source": []
  }
 ],
 "metadata": {
  "kernelspec": {
   "display_name": "Python 3",
   "language": "python",
   "name": "python3"
  },
  "language_info": {
   "codemirror_mode": {
    "name": "ipython",
    "version": 3
   },
   "file_extension": ".py",
   "mimetype": "text/x-python",
   "name": "python",
   "nbconvert_exporter": "python",
   "pygments_lexer": "ipython3",
   "version": "3.7.10"
  }
 },
 "nbformat": 4,
 "nbformat_minor": 5
}

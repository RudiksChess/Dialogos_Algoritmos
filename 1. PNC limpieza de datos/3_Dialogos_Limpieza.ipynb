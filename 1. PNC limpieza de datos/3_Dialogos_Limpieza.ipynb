{
  "nbformat": 4,
  "nbformat_minor": 0,
  "metadata": {
    "colab": {
      "name": "Dialogos-Limpieza.ipynb",
      "provenance": [],
      "collapsed_sections": []
    },
    "kernelspec": {
      "display_name": "Python 3",
      "name": "python3"
    },
    "language_info": {
      "name": "python"
    }
  },
  "cells": [
    {
      "cell_type": "code",
      "metadata": {
        "id": "73zJ0ZVDLfgT"
      },
      "source": [
        "!pip install python-Levenshtein"
      ],
      "execution_count": null,
      "outputs": []
    },
    {
      "cell_type": "code",
      "metadata": {
        "id": "29uV0frCLMiM"
      },
      "source": [
        "!pip install fuzzywuzzy"
      ],
      "execution_count": null,
      "outputs": []
    },
    {
      "cell_type": "code",
      "metadata": {
        "id": "Hq4yAdxkQua5"
      },
      "source": [
        "import pandas as pd\n",
        "import numpy as np\n",
        "from fuzzywuzzy import fuzz\n",
        "from fuzzywuzzy import process"
      ],
      "execution_count": null,
      "outputs": []
    },
    {
      "cell_type": "code",
      "metadata": {
        "id": "b3SOphzCpQIh"
      },
      "source": [
        "pd.set_option(\"display.max_rows\", None, \"display.max_columns\", None)"
      ],
      "execution_count": null,
      "outputs": []
    },
    {
      "cell_type": "code",
      "metadata": {
        "id": "cYGRslkUgd1F"
      },
      "source": [
        "## \n",
        "all_data = pd.read_csv(\"/content/12.csv\",encoding='utf8',dtype=object,na_values=[\"IGNORADO\"])\n",
        "all_data[\"HORA\"] = all_data[\"HORA\"].astype(str)\n",
        "all_data['HORA'] = pd.to_datetime(all_data['HORA'],format= '%H:%M:%S',errors=\"coerce\").dt.time"
      ],
      "execution_count": null,
      "outputs": []
    },
    {
      "cell_type": "code",
      "metadata": {
        "colab": {
          "base_uri": "https://localhost:8080/"
        },
        "id": "9AG7oHj-EvAf",
        "outputId": "12a9abd2-52d2-4d49-9ed4-ff07c3ba6d81"
      },
      "source": [
        "columnas = [i for i in all_data.columns.values]\n",
        "columnas"
      ],
      "execution_count": null,
      "outputs": [
        {
          "output_type": "execute_result",
          "data": {
            "text/plain": [
              "['No.  ',\n",
              " 'FECHA',\n",
              " 'MES',\n",
              " 'DÍA',\n",
              " 'HORA',\n",
              " 'LUGAR',\n",
              " 'COM.',\n",
              " 'MUNI',\n",
              " 'UR',\n",
              " 'RU',\n",
              " 'ZONA',\n",
              " 'NOMBRE',\n",
              " 'SEXO',\n",
              " 'EDAD',\n",
              " 'M/M',\n",
              " 'NACIONALIDAD',\n",
              " 'INTRUCCION',\n",
              " 'PROFESION',\n",
              " 'DELITO',\n",
              " 'MOVIL',\n",
              " 'INDIVIDUOS',\n",
              " 'ARMA TIPO',\n",
              " 'DESCRIPCION',\n",
              " 'MODUS OP.',\n",
              " 'JUZGADO O FISCALIA',\n",
              " 'OF.',\n",
              " 'LIBERADO / RESCATADO',\n",
              " 'FECHA LIBERADO',\n",
              " 'LUGAR DE LIBERACION',\n",
              " 'HORA.1',\n",
              " 'MUERTO, HERIDO',\n",
              " 'LUGAR DE LOCALIZACIÓN',\n",
              " 'FECHA DE LOCALIZACIÓN',\n",
              " 'MONTO SOLICITADO',\n",
              " 'PAGO',\n",
              " 'TEL. RECEPTOR',\n",
              " 'TEL. EMISOR',\n",
              " 'RESULTADO',\n",
              " 'DETENIDOS/INCAUTADO',\n",
              " 'DETENIDOS',\n",
              " 'DIA',\n",
              " 'AÑO',\n",
              " 'FECHA DE REPORTE HECHO',\n",
              " 'FECHA DE DESENLACE',\n",
              " 'DIRECCION DEL HECHO',\n",
              " 'MUNICIPIO',\n",
              " 'DEPARTAMENTO',\n",
              " 'cod.muni',\n",
              " 'URBANO',\n",
              " 'RURAL',\n",
              " 'ZONAS',\n",
              " 'ACCESO A NEGOCIAR',\n",
              " 'TIPO SOLICITUD DE LOS SECUESTRADORES',\n",
              " 'HORA DE LOCALIZACION',\n",
              " 'INCAUTADO',\n",
              " 'FALLECIDO/HERIDO/ CON VIDA',\n",
              " 'RESEÑA DEL HECHO',\n",
              " 'COMISARIA']"
            ]
          },
          "metadata": {},
          "execution_count": 165
        }
      ]
    },
    {
      "cell_type": "code",
      "metadata": {
        "colab": {
          "base_uri": "https://localhost:8080/"
        },
        "id": "VYS8DT8nOcvG",
        "outputId": "ef47740a-8876-4efb-be6f-428aad3e791b"
      },
      "source": [
        "print(all_data.isna().sum())"
      ],
      "execution_count": null,
      "outputs": [
        {
          "output_type": "stream",
          "name": "stdout",
          "text": [
            "No.                                      21\n",
            "FECHA                                     5\n",
            "MES                                       0\n",
            "DÍA                                      17\n",
            "HORA                                    184\n",
            "LUGAR                                    26\n",
            "COM.                                     12\n",
            "MUNI                                     17\n",
            "UR                                        5\n",
            "RU                                        5\n",
            "ZONA                                      5\n",
            "NOMBRE                                   17\n",
            "SEXO                                      0\n",
            "EDAD                                      2\n",
            "M/M                                      17\n",
            "NACIONALIDAD                              0\n",
            "INTRUCCION                               18\n",
            "PROFESION                                49\n",
            "DELITO                                   17\n",
            "MOVIL                                    17\n",
            "INDIVIDUOS                               17\n",
            "ARMA TIPO                                17\n",
            "DESCRIPCION                              17\n",
            "MODUS OP.                                17\n",
            "JUZGADO O FISCALIA                      103\n",
            "OF.                                     187\n",
            "LIBERADO / RESCATADO                     12\n",
            "FECHA LIBERADO                           25\n",
            "LUGAR DE LIBERACION                      92\n",
            "HORA.1                                   96\n",
            "MUERTO, HERIDO                          105\n",
            "LUGAR DE LOCALIZACIÓN                    59\n",
            "FECHA DE LOCALIZACIÓN                    47\n",
            "MONTO SOLICITADO                         25\n",
            "PAGO                                     11\n",
            "TEL. RECEPTOR                            47\n",
            "TEL. EMISOR                              51\n",
            "RESULTADO                                50\n",
            "DETENIDOS/INCAUTADO                     138\n",
            "DETENIDOS                               103\n",
            "DIA                                     173\n",
            "AÑO                                     185\n",
            "FECHA DE REPORTE HECHO                  173\n",
            "FECHA DE DESENLACE                      173\n",
            "DIRECCION DEL HECHO                     173\n",
            "MUNICIPIO                               173\n",
            "DEPARTAMENTO                            185\n",
            "cod.muni                                185\n",
            "URBANO                                  185\n",
            "RURAL                                   185\n",
            "ZONAS                                   185\n",
            "ACCESO A NEGOCIAR                       173\n",
            "TIPO SOLICITUD DE LOS SECUESTRADORES    173\n",
            "HORA DE LOCALIZACION                    173\n",
            "INCAUTADO                               132\n",
            "FALLECIDO/HERIDO/ CON VIDA              146\n",
            "RESEÑA DEL HECHO                        149\n",
            "COMISARIA                               178\n",
            "dtype: int64\n"
          ]
        }
      ]
    },
    {
      "cell_type": "code",
      "metadata": {
        "id": "rBZw8ZquLquJ"
      },
      "source": [
        "def matcher(cadena):\n",
        "  str2Match = cadena\n",
        "  strOptions = columnas\n",
        "  Ratios = process.extract(str2Match,strOptions)\n",
        "  return Ratios\n",
        "\n",
        "for cadena in columnas: \n",
        "  print(matcher(cadena))\n",
        "  pregunta = str(input(\"Bro, ALL OK?\"))"
      ],
      "execution_count": null,
      "outputs": []
    },
    {
      "cell_type": "code",
      "metadata": {
        "colab": {
          "base_uri": "https://localhost:8080/"
        },
        "id": "lGU9xdVV7eVu",
        "outputId": "2e8927cb-fb10-4f87-8352-08efb1f677fe"
      },
      "source": [
        "len(all_data)"
      ],
      "execution_count": null,
      "outputs": [
        {
          "output_type": "execute_result",
          "data": {
            "text/plain": [
              "18701"
            ]
          },
          "metadata": {},
          "execution_count": 73
        }
      ]
    },
    {
      "cell_type": "code",
      "metadata": {
        "id": "1qoz1qd5RCwW"
      },
      "source": [
        "###\n",
        "all_data['HORA'].fillna(all_data['HORA.1'])\n",
        "all_data['MUNI'].fillna(all_data['cod.muni'])\n",
        "all_data['COM.'].fillna(all_data['COMISARIA'])\n",
        "\n",
        "\n",
        "columnas_innecesarias = [\"No.  \",\"HORA.1\",\"cod.muni\",'COMISARIA']"
      ],
      "execution_count": null,
      "outputs": []
    },
    {
      "cell_type": "code",
      "metadata": {
        "id": "YhOTAWvEuH07"
      },
      "source": [
        "\n",
        "\"\"\"\n",
        "1.1 Armas incautadas \n",
        "\n",
        "all_data['RESIDENCIA'].fillna(all_data['Residencia'])\n",
        "all_data['MUNICIPIO'].fillna(all_data['Municipio'])\n",
        "all_data['MUNICIPIO'].fillna(all_data['MUNICIOPIO'])\n",
        "all_data['DEPARTAMENTO'].fillna(all_data['Departamento'])\n",
        "all_data['VEHICULO'].fillna(all_data['vehículo'])\n",
        "all_data['DIGECAM'].fillna(all_data['No. DIGECAM'])\n",
        "all_data['MEDIO EN QUE SE CONDUCIA'].fillna(all_data['medio en que se conducía'])\n",
        "\n",
        "columnas_innecesarias = [\"No.\",\"Residencia\",\"Municipio\",\"MUNICIOPIO\",\"Departamento\",\"vehículo\",\"medio en que se conducía\",\"No. DIGECAM\"]\n",
        "\n",
        "------------------------------------------------------------------------------------\n",
        "1.2 ARTEFACTOS EXPLOSIVOS\n",
        "\n",
        "all_data.loc[all_data.FECHA==\"2105/2019\",\"FECHA\"] = \"21/05/2019\"\n",
        "all_data[\"ARTEFACTO EXPLOSIVO\"] = all_data[\" ARTEFACTO EXPLOSTIVO\"]\n",
        "columnas_innecesarias = [\"No.\",\" ARTEFACTO EXPLOSTIVO\"]\n",
        "\n",
        "\n",
        "------------------------------------------------------------------------------------\n",
        "2. Armas robadas\n",
        "\n",
        "\n",
        "all_data['FORMULA'].fillna(all_data['FORMLA'])\n",
        "all_data['medio en que se conducía'].fillna(all_data['Medio en el que se conducía'])\n",
        "\n",
        "columnas_innecesarias = ['                                                                                                                                                                                          ',\n",
        "                         \"FORMLA\",\"No.\",\"Medio en el que se conducía\"]\n",
        "------------------------------------------------------------------------------------\n",
        "3. Delitos sexuales\n",
        "\n",
        "all_data['JUZGADO O FISCALIA'].fillna(all_data['JUZGADO 0 FISCALIA'])\n",
        "\n",
        "columnas_innecesarias = [\"No\",\"No:\",\"No.\",\"JUZGADO 0 FISCALIA\"]\n",
        "\n",
        "------------------------------------------------------------------------------------\n",
        "4. Motos Robadas\n",
        "all_data['ALDEAS, BARRIOS, CASERIOS'].fillna(all_data['COLONIA BARRIO ALDEA '])\n",
        "\n",
        "columnas_innecesarias = [\"NO.\",\"No.\",\"0\",\"0.1\",\"COLONIA BARRIO ALDEA \"]\n",
        "------------------------------------------------------------------------------------\n",
        "5.1 Retenidos \n",
        "columnas_innecesarias = [\"No.\"]\n",
        "------------------------------------------------------------------------------------\n",
        "5.2 Remitidos \n",
        "\n",
        "all_data['COMISARIA'].fillna(all_data['COMISARIA '])\n",
        "all_data['COMISARIA'].fillna(all_data['COMISARIA '])\n",
        "all_data['COMISARIA'].fillna(all_data[' COMISARIA  '])\n",
        "all_data['MUNICIPIO'].fillna(all_data['MUNICIPIO.1'])\n",
        "columnas_innecesarias = [\"No.\",\"NO\",\"COMISARIA \",\"COMISARIA \",\" COMISARIA  \",\"MUNICIPIO.1\"]\n",
        "\n",
        "------------------------------------------------------------------------------------\n",
        "5.3 Detenidos\n",
        "\n",
        "all_data['COMISARIA'].fillna(all_data['COMISARIAS'])\n",
        "all_data['COMISARIA'].fillna(all_data[' COMISARIA  '])\n",
        "\n",
        "all_data['LEY SECA'].fillna(all_data['LEY SECA.1'])\n",
        "all_data['MUNICIPIO'].fillna(all_data['MUNICIPIO.1'])\n",
        "all_data['REFERENCIA HECHOS DE BUSES, CAMIONES, TAXIS.'].fillna(all_data['REFERENCIA SOLO PARA HECHOS DE BUSES'])\n",
        "all_data['DECRETO 09-2020'].fillna(all_data['DECRETO 09-2020.1'])\n",
        "all_data['DECRETO 10-2020'].fillna(all_data['DECRETO 10-2020 (ESTADO DE SITIO)'])\n",
        "all_data['COLONIAS CASERIOS BARRIOS CANTON Y ALDEAS '].fillna(all_data['COLONIAS CASERIOS Y ALDEAS '])\n",
        "all_data['CONATO O VAPULEO'].fillna(all_data['CONATO O VAPULEO '])\n",
        "all_data['CONATO O VAPULEO'].fillna(all_data['CONATO'])\n",
        "\n",
        "all_data['LA VICTIMA ERA MAYOR Y O MENOR'].fillna(all_data['MAYOR Y O MENOR'])\n",
        "\n",
        "all_data[\"MASCULINO\"] = all_data[\"MASCULINO\"].replace(1,\"MASCULINO\")\n",
        "all_data[\"FEMENINO\"] = all_data[\"FEMENINO\"].replace(1,\"MASCULINO\")\n",
        "all_data['MASCULINO'].fillna(all_data['FEMENINO'])\n",
        "all_data['SEXO DE LA VICTIMA'].fillna(all_data['MASCULINO'])\n",
        "\n",
        "all_data[\"MAYOR\"] = all_data[\"MAYOR\"].replace(1,\"MASCULINO\")\n",
        "all_data[\"MENOR\"] = all_data[\"MENOR\"].replace(1,\"MASCULINO\")\n",
        "all_data['MAYOR'].fillna(all_data['MENOR'])\n",
        "all_data['MAYOR Y O MENOR'].fillna(all_data['MAYOR'])\n",
        "all_data['LA VICTIMA ERA MAYOR Y O MENOR'].fillna(all_data['MAYOR Y O MENOR'])\n",
        "\n",
        "all_data['DECRETO 07-2020'].fillna(all_data['DECRETO 07-2020 T.Q.'])\n",
        "all_data['DECRETO 09-2020'].fillna(all_data['DECRETO 09-2020 L.S.'])\n",
        "\n",
        " \n",
        "\n",
        "columnas_innecesarias = [\"No\",\"No.\",\"NO\",\"NO.\",\"                                                                       \",\n",
        "                         \"COMISARIAS\",\" COMISARIA  \",\"LEY SECA.1\",\"MUNICIPIO.1\",\"REFERENCIA SOLO PARA HECHOS DE BUSES\",\n",
        "                         \"DECRETO 09-2020.1\",\"DECRETO 10-2020 (ESTADO DE SITIO)\",\"COLONIAS CASERIOS Y ALDEAS \",\"CONATO O VAPULEO \"\n",
        "                         ,\"CONATO\",\"MAYOR Y O MENOR\", \"MASCULINO\",\"FEMENINO\",\"MAYOR\",\"MENOR\",\"DECRETO 07-2020 T.Q.\",\"DECRETO 09-2020 L.S.\"]\n",
        "\n",
        "------------------------------------------------------------------------------------\n",
        "6. PATRIMONIO I \n",
        "\n",
        "columnas_innecesarias = [\"No.\"]\n",
        "\n",
        "------------------------------------------------------------------------------------\n",
        "7.1 PATRIMONIO II \n",
        "\n",
        "all_data['SEXO'].fillna(all_data['SEXO.1'])\n",
        "all_data['SEXO'].fillna(all_data['SEXO.2'])\n",
        "all_data['Medio en el que se conducía'].fillna(all_data['medio en que se conducía'])\n",
        "columnas_innecesarias = [\"No.\",\"SEXO.1\",\"SEXO.2\",'medio en que se conducía']\n",
        "\n",
        "------------------------------------------------------------------------------------\n",
        "7.2 PEATONES\n",
        "all_data['DÍA'].fillna(all_data['DIA'])\n",
        "all_data['CALLE Y AVENIDA'].fillna(all_data['CALLE, AVENIDA'])\n",
        "all_data['ALDEA, BARRIO, CASERIO, CANTON'].fillna(all_data['ALDEA, BARRIO, CASERIO, CANTON, PARAJE, KM.'])\n",
        "\n",
        "all_data['RESIDENCIA'].fillna(all_data['Residencia'])\n",
        "all_data['MUNICIPIO'].fillna(all_data['Municipio'])\n",
        "all_data['DEPARTAMENTO'].fillna(all_data['Departamento'])\n",
        "all_data['URBANO'].fillna(all_data['UR'])\n",
        "all_data['SEXO'].fillna(all_data['SEXO.1'])\n",
        "all_data['SEXO'].fillna(all_data['SEXO.2'])\n",
        "all_data['MEDIO EN QUE SE CONDUCIA'].fillna(all_data['medio en que se conducía'])\n",
        "all_data['VEHICULO'].fillna(all_data['vehículo'])\n",
        "all_data['TIPO DE VEHICULO'].fillna(all_data['Tipo de vehículo'])\n",
        "all_data['COSTO'].fillna(all_data['COSTE'])\n",
        "all_data['APREHENDIDO'].fillna(all_data['APREHENDIDOS'])\n",
        "all_data['JDO O MP'].fillna(all_data['JDO O M.P.'])\n",
        "all_data['INFORMO'].fillna(all_data['INFORMO?'])\n",
        "\n",
        "columnas_innecesarias = [\"No.\",\"DIA\",'CALLE, AVENIDA','ALDEA, BARRIO, CASERIO, CANTON, PARAJE, KM.',\n",
        "                         'Residencia','Municipio','Departamento','UR','SEXO.1','SEXO.2',\n",
        "                         'medio en que se conducía','vehículo','COSTE','APREHENDIDOS','JDO O M.P.','INFORMO?' ]\n",
        "\n",
        "\n",
        "------------------------------------------------------------------------------------\n",
        "7.3 TURISTAS\n",
        "all_data['MES'].fillna(all_data['MES '])\n",
        "all_data['DÍA'].fillna(all_data['DIA'])\n",
        "all_data['CALLE Y AVENIDA'].fillna(all_data['CALLE, AVENIDA'])\n",
        "all_data['ALDEA, BARRIO, CASERIO, CANTON'].fillna(all_data['ALDEA, BARRIO, CASERIO, CANTON, PARAJE, KM.'])\n",
        "all_data['SEXO'].fillna(all_data['SEXO.1'])\n",
        "all_data['SEXO'].fillna(all_data['SEXO.2'])\n",
        "all_data['Medio en el que se conducía'].fillna(all_data['medio en que se conducía'])\n",
        "all_data['COSTO'].fillna(all_data['COSTE'])\n",
        "all_data['JDO O MP'].fillna(all_data['JDO O M.P.'])\n",
        "\n",
        "columnas_innecesarias = [\"No.\", \"NO.\",'MES ','DIA','CALLE, AVENIDA','ALDEA, BARRIO, CASERIO, CANTON, PARAJE, KM.',\n",
        "                         'SEXO.1','SEXO.2','medio en que se conducía','COSTE','JDO O M.P.' ]\n",
        "------------------------------------------------------------------------------------\n",
        "8. DESAPARECIDOS -EXTRAVIADOS \n",
        "\n",
        "all_data['FECHA'].fillna(all_data['FECHA.1'])\n",
        "all_data['FECHA'].fillna(all_data['FECHA.2'])\n",
        "all_data['HORA'].fillna(all_data['HORA.1'])\n",
        "all_data['DIRECCION'].fillna(all_data['DIRECCION.1'])\n",
        "all_data['DIRECCION'].fillna(all_data['REFERENCIA DIRECCION'])\n",
        "all_data['COLONIA, BARRIO, CANTON'].fillna(all_data['COLONIA'])\n",
        "\n",
        "all_data['MUNICIPIO'].fillna(all_data['Municipio'])\n",
        "all_data['UR'].fillna(all_data['URBANO (SI/NO)'])\n",
        "all_data['URBANO'] = all_data['UR']\n",
        "\n",
        "all_data['ZONA'].fillna(all_data['ZO'])\n",
        "all_data['CON VIDA/FALLECIDOS'].fillna(all_data['CON VIDA'])\n",
        "\n",
        "\n",
        "columnas_innecesarias = [\"NO.\",\"No.\",'FECHA.1','FECHA.2','HORA.1','DIRECCION.1','REFERENCIA DIRECCION',\n",
        "                         'COLONIA','Municipio','URBANO (SI/NO)','UR','ZO','CON VIDA' ]\n",
        "\n",
        "\n",
        "------------------------------------------------------------------------------------\n",
        "9. Violencia intrafamiliar \n",
        "\n",
        "all_data['ENTRE PADRES E HIJOS'].fillna(all_data['ENTRE PADRE E HIJOS'])\n",
        "\n",
        "\n",
        "columnas_innecesarias = [\"No.\", 'ENTRE PADRE E HIJOS']\n",
        "------------------------------------------------------------------------------------\n",
        "10.1 BUSES \n",
        "\n",
        "all_data['Medio en el que se conducía'].fillna(all_data['Medio en el que se conducía.1'])\n",
        "all_data['SEXO'].fillna(all_data['SEXO.1'])\n",
        "all_data['Tipo de vehículo'].fillna(all_data['Tipo de vehículo.1'])\n",
        "\n",
        "columnas_innecesarias = [\"No.\", 'Medio en el que se conducía.1',\"SEXO.1\",'Tipo de vehículo.1']\n",
        "\n",
        "------------------------------------------------------------------------------------\n",
        "10.2 VIDA \n",
        "\n",
        "all_data['Medio en el que se conducía'].fillna(all_data['Medio en el que se conducía.1'])\n",
        "all_data['Medio en el que se conducía'].fillna(all_data['Medio en el que se conducía3'])\n",
        "all_data['Tipo de vehículo.1'].fillna(all_data['Tipo de vehículo4'])\n",
        "all_data['Tipo de vehículo'].fillna(all_data['Tipo de vehículo.1'])\n",
        "all_data['SEXO'].fillna(all_data['SEXO.1'])\n",
        "all_data['SEXO'].fillna(all_data['SEXO2'])\n",
        "\n",
        "columnas_innecesarias = [\"No.\",\"Columna5\",\"Medio en el que se conducía.1\",\"Medio en el que se conducía3\",\n",
        "                         \"Tipo de vehículo4\",\"SEXO.1\",\"SEXO2\",\"Tipo de vehículo.1\"]\n",
        "\n",
        "------------------------------------------------------------------------------------\n",
        "11. MOTOS RECUPERADAS\n",
        "\n",
        "all_data['COLONIAS, ALDEA, BARRIOS Y CASERIOS'].fillna(all_data['COLONIA, CASERIO, ALDEA'])\n",
        "all_data['CALLE Y AVENIDA'].fillna(all_data['CALLE ô AVENIDA'])\n",
        "\n",
        "all_data['JUZGADO O FISCALIA'].fillna(all_data['JUZGADO 0 FISCALIA'])\n",
        "all_data['JUZGADO O FISCALIA'].fillna(all_data['JUZGADO FISCALIA'])\n",
        "\n",
        "\n",
        "columnas_innecesarias = [\"No.\", \"No\",\"NO\",\" \",\"COLONIA, CASERIO, ALDEA\",\"CALLE ô AVENIDA\",\"JUZGADO 0 FISCALIA\",\n",
        "                         \"JUZGADO FISCALIA\"]\n",
        "------------------------------------------------------------------------------------\n",
        "12. Muertes otras causas \n",
        "\n",
        "\n",
        "all_data['URBANO'].fillna(all_data['UR'])\n",
        "\n",
        "columnas_innecesarias = [\"No.\", \"UR\"]\n",
        "\n",
        "------------------------------------------------------------------------------------\n",
        "\n",
        "13. Vehículos recuperados \n",
        "\n",
        "\n",
        "all_data['JUZGADO O FISCALIA'].fillna(all_data['JUZGADO 0 FISCALIA'])\n",
        "\n",
        "columnas_innecesarias = [\"No.\",\"NO.\", \"NO\",\"l\",\"JUZGADO 0 FISCALIA\"]\n",
        "------------------------------------------------------------------------------------\n",
        "\n",
        "14. Vehículos robados\n",
        "\n",
        "columnas_innecesarias = [\"NO.\", \"No.\",\"NO\",\"l\"]\n",
        "\n",
        "------------------------------------------------------------------------------------\n",
        "15. Secuestros\n",
        "\n",
        "\n",
        "\"\"\""
      ],
      "execution_count": null,
      "outputs": []
    },
    {
      "cell_type": "code",
      "metadata": {
        "id": "k9YVGGt5RyhR"
      },
      "source": [
        "all_data.drop(columnas_innecesarias, axis=1, inplace=True)"
      ],
      "execution_count": null,
      "outputs": []
    },
    {
      "cell_type": "code",
      "metadata": {
        "id": "jGrEyTFxSvw5"
      },
      "source": [
        "all_data.reset_index(drop=True, inplace=True)\n",
        "all_data.drop_duplicates(inplace = True)\n",
        "all_data.reset_index(drop=True, inplace = True)\n",
        "###\n",
        "indice = \"FECHA\"\n",
        "all_data[indice] = pd.to_datetime(all_data[indice])\n",
        "all_data = all_data.sort_values(by=indice)\n",
        "all_data.reset_index(drop=True, inplace = True)"
      ],
      "execution_count": null,
      "outputs": []
    },
    {
      "cell_type": "code",
      "metadata": {
        "colab": {
          "base_uri": "https://localhost:8080/"
        },
        "id": "5hmSkTRkJSFl",
        "outputId": "16e10ba1-ee8d-4b29-ad75-4a6e34eca800"
      },
      "source": [
        "len(all_data)"
      ],
      "execution_count": null,
      "outputs": [
        {
          "output_type": "execute_result",
          "data": {
            "text/plain": [
              "161"
            ]
          },
          "metadata": {},
          "execution_count": 175
        }
      ]
    },
    {
      "cell_type": "code",
      "metadata": {
        "colab": {
          "base_uri": "https://localhost:8080/"
        },
        "id": "G2OPUzB7po5W",
        "outputId": "7878ab9d-b050-4752-af04-d5de12987335"
      },
      "source": [
        "all_data.isna().sum()"
      ],
      "execution_count": null,
      "outputs": [
        {
          "output_type": "execute_result",
          "data": {
            "text/plain": [
              "FECHA                                     5\n",
              "MES                                       0\n",
              "DÍA                                      17\n",
              "HORA                                    156\n",
              "LUGAR                                    26\n",
              "COM.                                     12\n",
              "MUNI                                     17\n",
              "UR                                        5\n",
              "RU                                        5\n",
              "ZONA                                      5\n",
              "NOMBRE                                   17\n",
              "SEXO                                      0\n",
              "EDAD                                      2\n",
              "M/M                                      17\n",
              "NACIONALIDAD                              0\n",
              "INTRUCCION                               18\n",
              "PROFESION                                42\n",
              "DELITO                                   17\n",
              "MOVIL                                    17\n",
              "INDIVIDUOS                               17\n",
              "ARMA TIPO                                17\n",
              "DESCRIPCION                              17\n",
              "MODUS OP.                                17\n",
              "JUZGADO O FISCALIA                       98\n",
              "OF.                                     158\n",
              "LIBERADO / RESCATADO                     11\n",
              "FECHA LIBERADO                           21\n",
              "LUGAR DE LIBERACION                      77\n",
              "MUERTO, HERIDO                           97\n",
              "LUGAR DE LOCALIZACIÓN                    47\n",
              "FECHA DE LOCALIZACIÓN                    38\n",
              "MONTO SOLICITADO                         23\n",
              "PAGO                                     10\n",
              "TEL. RECEPTOR                            44\n",
              "TEL. EMISOR                              48\n",
              "RESULTADO                                42\n",
              "DETENIDOS/INCAUTADO                     122\n",
              "DETENIDOS                                80\n",
              "DIA                                     144\n",
              "AÑO                                     156\n",
              "FECHA DE REPORTE HECHO                  144\n",
              "FECHA DE DESENLACE                      144\n",
              "DIRECCION DEL HECHO                     144\n",
              "MUNICIPIO                               144\n",
              "DEPARTAMENTO                            156\n",
              "URBANO                                  156\n",
              "RURAL                                   156\n",
              "ZONAS                                   156\n",
              "ACCESO A NEGOCIAR                       144\n",
              "TIPO SOLICITUD DE LOS SECUESTRADORES    144\n",
              "HORA DE LOCALIZACION                    144\n",
              "INCAUTADO                               104\n",
              "FALLECIDO/HERIDO/ CON VIDA              118\n",
              "RESEÑA DEL HECHO                        121\n",
              "dtype: int64"
            ]
          },
          "metadata": {},
          "execution_count": 176
        }
      ]
    },
    {
      "cell_type": "code",
      "metadata": {
        "id": "OgjmNeINVtNF"
      },
      "source": [
        "# all_data.groupby([all_data.FECHA.dt.year,all_data.FECHA.dt.month]).count()"
      ],
      "execution_count": null,
      "outputs": []
    },
    {
      "cell_type": "code",
      "metadata": {
        "id": "3vsZK6V9qamR"
      },
      "source": [
        "\"\"\"\n",
        "1.1. archivo = \"armas_incautadas\"\n",
        "1.2. archivo = \"artefactos_explosivos\"\n",
        "2. archivo = \"armas_robadas\"\n",
        "3. archivo = \"delitos_sexuales\"\n",
        "4. archivo = \"motos_robadas\"\n",
        "5. archivo = \"detenidos\"\n",
        "6. archivo = \"Patrimonio_I\"\n",
        "7. archivo = \"Patrimonio_II\"\n",
        "\n",
        "\n",
        "14. archivo = \"vehiculos_robados\"\n",
        "\n",
        "\"\"\""
      ],
      "execution_count": null,
      "outputs": []
    },
    {
      "cell_type": "code",
      "metadata": {
        "id": "COKiJbGa3OHh"
      },
      "source": [
        "all_data.to_csv(\"15_secuestros.csv\",encoding=\"utf8\", index=False)  "
      ],
      "execution_count": null,
      "outputs": []
    },
    {
      "cell_type": "code",
      "metadata": {
        "id": "0txB1VrLX4xB"
      },
      "source": [
        ""
      ],
      "execution_count": null,
      "outputs": []
    }
  ]
}
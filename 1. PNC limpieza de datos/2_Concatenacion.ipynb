{
  "nbformat": 4,
  "nbformat_minor": 0,
  "metadata": {
    "colab": {
      "name": "Concatenacion-Dialogos.ipynb",
      "provenance": [],
      "collapsed_sections": []
    },
    "kernelspec": {
      "name": "python3",
      "display_name": "Python 3"
    },
    "language_info": {
      "name": "python"
    }
  },
  "cells": [
    {
      "cell_type": "code",
      "metadata": {
        "id": "pJP1KjOfQ9lq"
      },
      "source": [
        "import pandas as pd\n",
        "import glob"
      ],
      "execution_count": null,
      "outputs": []
    },
    {
      "cell_type": "code",
      "metadata": {
        "id": "DWpJZCGARH5_"
      },
      "source": [
        "!unzip 15.zip"
      ],
      "execution_count": null,
      "outputs": []
    },
    {
      "cell_type": "code",
      "metadata": {
        "id": "wFnNutssRKHz"
      },
      "source": [
        "def excels_to_dataframe(path, index):\n",
        "  original = pd.DataFrame()\n",
        "  for f in glob.glob(path):\n",
        "    df = pd.read_excel(f)\n",
        "    df = df[df[index].notnull()]\n",
        "    df.drop(df.columns[df.columns.str.contains('unnamed',case = False, na=False)],axis = 1, inplace = True)\n",
        "    original = original.append(df,ignore_index=True)\n",
        "  return original  "
      ],
      "execution_count": null,
      "outputs": []
    },
    {
      "cell_type": "code",
      "metadata": {
        "id": "DtNSvilfRMBv"
      },
      "source": [
        "path = \"/content/15/*.*\"\n",
        "archivo_nombre= \"15.csv\"\n",
        "indice = 'MES'\n",
        "all_data = excels_to_dataframe(path,indice)"
      ],
      "execution_count": null,
      "outputs": []
    },
    {
      "cell_type": "code",
      "metadata": {
        "id": "F0wAALcwSaF_"
      },
      "source": [
        "#all_data.loc[all_data.FECHA==\"19/052016\",\"FECHA\"] = \"19/05/2016\"\n",
        "#all_data.loc[all_data.FECHA==\"2408/2018\",\"FECHA\"] = \"24/08/2018\"\n",
        "all_data.drop_duplicates(inplace = True)\n",
        "all_data.reset_index(drop=True, inplace = True)\n",
        "indice = \"FECHA\"\n",
        "all_data[indice] = pd.to_datetime(all_data[indice],errors=\"coerce\")\n",
        "all_data = all_data.sort_values(by=indice)\n",
        "all_data.reset_index(drop=True, inplace = True)\n",
        "all_data.to_csv(archivo_nombre, encoding='utf-8', index=False)"
      ],
      "execution_count": null,
      "outputs": []
    },
    {
      "cell_type": "code",
      "metadata": {
        "id": "Gls_asbSZXDj"
      },
      "source": [
        ""
      ],
      "execution_count": null,
      "outputs": []
    }
  ]
}